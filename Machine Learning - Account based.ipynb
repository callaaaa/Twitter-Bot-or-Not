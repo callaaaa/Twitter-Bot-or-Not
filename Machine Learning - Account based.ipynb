{
 "cells": [
  {
   "cell_type": "code",
   "execution_count": 1,
   "metadata": {},
   "outputs": [
    {
     "name": "stderr",
     "output_type": "stream",
     "text": [
      "Using TensorFlow backend.\n"
     ]
    }
   ],
   "source": [
    "import pandas as pd\n",
    "import numpy as np\n",
    "\n",
    "from keras.layers import Embedding, Dense, LSTM, Dense, Input, concatenate\n",
    "from keras.models import Model\n",
    "from keras.utils import plot_model\n",
    "\n",
    "from keras.preprocessing.text import Tokenizer\n",
    "from keras.preprocessing.sequence import pad_sequences"
   ]
  },
  {
   "cell_type": "code",
   "execution_count": 2,
   "metadata": {},
   "outputs": [],
   "source": [
    "df = pd.read_csv('../collection/data/profile/storage/raw/userData.csv')\n",
    "bot_accounts = pd.read_csv('data/bot_id_username.csv')\n",
    "clean_accounts = pd.read_csv('data/non_bot_accounts.csv')"
   ]
  },
  {
   "cell_type": "code",
   "execution_count": 3,
   "metadata": {},
   "outputs": [],
   "source": [
    "bot_details = df[df['username'].isin(bot_accounts['username'])]\n",
    "bot_details = bot_details.reset_index(drop=True)[:14000]\n",
    "\n",
    "clean_details = df[df['username'].isin(clean_accounts['username'])]\n",
    "clean_details = clean_details.reset_index(drop=True)\n",
    "\n",
    "bot_details['BotOrNot'] = 1\n",
    "clean_details['BotOrNot'] = 0\n",
    "\n",
    "combined_df = clean_details.append(bot_details, ignore_index=True)\n",
    "\n",
    "new_df = combined_df.sample(frac=1).reset_index(drop=True)\n",
    "new_df['created'] = pd.to_datetime(new_df['created'])\n",
    "new_df['age'] = (pd.Timestamp.today() - new_df['created']).apply(lambda x: x.days)"
   ]
  },
  {
   "cell_type": "code",
   "execution_count": 4,
   "metadata": {},
   "outputs": [],
   "source": [
    "new_df = new_df[['username', 'age', 'has_location', 'is_verified', 'total_tweets', 'total_following', 'total_followers', 'total_likes', 'has_avatar', 'has_background', 'is_protected', 'profile_modified', 'BotOrNot']]"
   ]
  },
  {
   "cell_type": "code",
   "execution_count": 21,
   "metadata": {},
   "outputs": [],
   "source": [
    "training_df = new_df.drop('username', axis=1)[:22000]\n",
    "test_df = new_df.drop('username', axis=1)[22000:]\n",
    "\n",
    "columns_to_standardize = ['age', 'total_tweets', 'total_following', 'total_followers', 'total_likes']\n",
    "\n",
    "training_df_mean = training_df[columns_to_standardize].mean()\n",
    "training_df_std = training_df[columns_to_standardize].std()\n",
    "\n",
    "training_df[columns_to_standardize] = (training_df[columns_to_standardize] - training_df_mean)/training_df_std\n",
    "test_df[columns_to_standardize] = (test_df[columns_to_standardize] - training_df_mean)/training_df_std\n",
    "\n",
    "# training_df_mean = training_df.mean()\n",
    "# training_df_std = training_df.std()\n",
    "\n",
    "# training_df = (training_df - training_df_mean)/training_df_std\n",
    "# test_df = (test_df - training_df_mean)/training_df_std\n",
    "\n",
    "# max_vals = training_df.max()\n",
    "\n",
    "# training_df = training_df/max_vals\n",
    "# test_df = test_df/max_vals"
   ]
  },
  {
   "cell_type": "code",
   "execution_count": 22,
   "metadata": {},
   "outputs": [],
   "source": [
    "X_train = training_df.drop(['BotOrNot', 'is_protected'], axis=1).values\n",
    "y_train = training_df['BotOrNot'].values.reshape(-1,1)\n",
    "\n",
    "X_test = test_df.drop(['BotOrNot', 'is_protected'], axis=1).values\n",
    "y_test = test_df['BotOrNot'].values.reshape(-1,1)"
   ]
  },
  {
   "cell_type": "code",
   "execution_count": 23,
   "metadata": {},
   "outputs": [],
   "source": [
    "inp = Input(shape=[10])\n",
    "\n",
    "another = Dense(500, activation='relu')(inp)\n",
    "another = Dense(200, activation='relu')(another)\n",
    "another = Dense(1, activation='sigmoid')(another)\n",
    "\n",
    "mod = Model(inp, another)\n",
    "mod.compile(optimizer='adam', loss='binary_crossentropy', metrics=['accuracy'])"
   ]
  },
  {
   "cell_type": "code",
   "execution_count": 24,
   "metadata": {},
   "outputs": [
    {
     "name": "stdout",
     "output_type": "stream",
     "text": [
      "Train on 22000 samples, validate on 5190 samples\n",
      "Epoch 1/20\n",
      "22000/22000 [==============================] - 4s 194us/step - loss: 0.6024 - acc: 0.6808 - val_loss: 0.5985 - val_acc: 0.6956\n",
      "Epoch 2/20\n",
      "22000/22000 [==============================] - 3s 144us/step - loss: 0.5854 - acc: 0.6916 - val_loss: 0.5992 - val_acc: 0.6871\n",
      "Epoch 3/20\n",
      "22000/22000 [==============================] - 3s 147us/step - loss: 0.5823 - acc: 0.6954 - val_loss: 0.5841 - val_acc: 0.7017\n",
      "Epoch 4/20\n",
      "22000/22000 [==============================] - 3s 154us/step - loss: 0.5813 - acc: 0.6966 - val_loss: 0.5860 - val_acc: 0.7042\n",
      "Epoch 5/20\n",
      "22000/22000 [==============================] - 3s 151us/step - loss: 0.5766 - acc: 0.6970 - val_loss: 0.5798 - val_acc: 0.7039\n",
      "Epoch 6/20\n",
      "22000/22000 [==============================] - 3s 140us/step - loss: 0.5739 - acc: 0.7011 - val_loss: 0.5791 - val_acc: 0.7029\n",
      "Epoch 7/20\n",
      "22000/22000 [==============================] - 3s 152us/step - loss: 0.5729 - acc: 0.7001 - val_loss: 0.5782 - val_acc: 0.7054\n",
      "Epoch 8/20\n",
      "22000/22000 [==============================] - 3s 145us/step - loss: 0.5712 - acc: 0.7010 - val_loss: 0.5837 - val_acc: 0.7006\n",
      "Epoch 9/20\n",
      "22000/22000 [==============================] - 3s 151us/step - loss: 0.5696 - acc: 0.7025 - val_loss: 0.5842 - val_acc: 0.7023\n",
      "Epoch 10/20\n",
      "22000/22000 [==============================] - 4s 162us/step - loss: 0.5689 - acc: 0.7035 - val_loss: 0.5805 - val_acc: 0.6961\n",
      "Epoch 11/20\n",
      "22000/22000 [==============================] - 3s 147us/step - loss: 0.5660 - acc: 0.7055 - val_loss: 0.5743 - val_acc: 0.7058\n",
      "Epoch 12/20\n",
      "22000/22000 [==============================] - 3s 151us/step - loss: 0.5647 - acc: 0.7071 - val_loss: 0.5735 - val_acc: 0.7075\n",
      "Epoch 13/20\n",
      "22000/22000 [==============================] - 3s 154us/step - loss: 0.5636 - acc: 0.7089 - val_loss: 0.5690 - val_acc: 0.7087\n",
      "Epoch 14/20\n",
      "22000/22000 [==============================] - 3s 151us/step - loss: 0.5636 - acc: 0.7085 - val_loss: 0.5751 - val_acc: 0.7058\n",
      "Epoch 15/20\n",
      "22000/22000 [==============================] - 4s 169us/step - loss: 0.5623 - acc: 0.7084 - val_loss: 0.5727 - val_acc: 0.7114\n",
      "Epoch 16/20\n",
      "22000/22000 [==============================] - 3s 155us/step - loss: 0.5625 - acc: 0.7075 - val_loss: 0.5711 - val_acc: 0.7079\n",
      "Epoch 17/20\n",
      "22000/22000 [==============================] - 3s 140us/step - loss: 0.5600 - acc: 0.7101 - val_loss: 0.5693 - val_acc: 0.7102\n",
      "Epoch 18/20\n",
      "22000/22000 [==============================] - 3s 136us/step - loss: 0.5608 - acc: 0.7110 - val_loss: 0.5830 - val_acc: 0.6987\n",
      "Epoch 19/20\n",
      "22000/22000 [==============================] - 3s 135us/step - loss: 0.5591 - acc: 0.7119 - val_loss: 0.5691 - val_acc: 0.7100\n",
      "Epoch 20/20\n",
      "22000/22000 [==============================] - 3s 133us/step - loss: 0.5581 - acc: 0.7128 - val_loss: 0.5745 - val_acc: 0.7075\n"
     ]
    }
   ],
   "source": [
    "training = mod.fit(x=X_train, y=y_train, batch_size=64, epochs=20, validation_data=(X_test, y_test))"
   ]
  },
  {
   "cell_type": "code",
   "execution_count": null,
   "metadata": {},
   "outputs": [],
   "source": []
  }
 ],
 "metadata": {
  "kernelspec": {
   "display_name": "Python (tf_gpu)",
   "language": "python",
   "name": "tf_gpu"
  },
  "language_info": {
   "codemirror_mode": {
    "name": "ipython",
    "version": 3
   },
   "file_extension": ".py",
   "mimetype": "text/x-python",
   "name": "python",
   "nbconvert_exporter": "python",
   "pygments_lexer": "ipython3",
   "version": "3.6.7"
  }
 },
 "nbformat": 4,
 "nbformat_minor": 2
}
