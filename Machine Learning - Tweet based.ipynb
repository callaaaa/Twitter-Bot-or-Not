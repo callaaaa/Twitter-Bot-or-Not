{
 "cells": [
  {
   "cell_type": "code",
   "execution_count": 68,
   "metadata": {},
   "outputs": [],
   "source": [
    "import pandas as pd\n",
    "import numpy as np\n",
    "import re\n",
    "\n",
    "from keras.layers import Embedding, Dense, LSTM, Dense, Input, concatenate\n",
    "from keras.models import Model\n",
    "from keras.utils import plot_model\n",
    "\n",
    "from keras.preprocessing.text import Tokenizer\n",
    "from keras.preprocessing.sequence import pad_sequences"
   ]
  },
  {
   "cell_type": "code",
   "execution_count": 80,
   "metadata": {},
   "outputs": [],
   "source": [
    "df = pd.read_csv('data/new_labeled_tweets.csv')\n",
    "splits = df['tweettext'].str.split(' ')\n",
    "to_remove = splits.apply(lambda x: len(x)).sort_values(ascending=False)[:10].index\n",
    "df = df.drop(to_remove).reset_index(drop=True)"
   ]
  },
  {
   "cell_type": "code",
   "execution_count": 81,
   "metadata": {},
   "outputs": [],
   "source": [
    "df['tweettext'] = df['tweettext'].str.replace('<quoted_status>', '<quoted_status> ')\n",
    "df['tweettext'] = df['tweettext'].str.replace('<hashtag>', '<hashtag> ')\n",
    "df['tweettext'] = df['tweettext'].apply(lambda x: re.sub( '\\s+', ' ', x ).strip())"
   ]
  },
  {
   "cell_type": "code",
   "execution_count": 82,
   "metadata": {},
   "outputs": [],
   "source": [
    "df_clean_split = df['tweettext'].str.split(' ', expand=True)\n",
    "words = df_clean_split.stack().unique()\n",
    "max_sequence = df_clean_split.shape[1]"
   ]
  },
  {
   "cell_type": "code",
   "execution_count": 84,
   "metadata": {},
   "outputs": [],
   "source": [
    "tockenizer = Tokenizer(words.shape[0]) \n",
    "tockenizer.fit_on_texts(df['tweettext'])\n",
    "sequences = tockenizer.texts_to_sequences(df['tweettext'])"
   ]
  },
  {
   "cell_type": "code",
   "execution_count": 85,
   "metadata": {},
   "outputs": [],
   "source": [
    "word_index = tockenizer.word_index\n",
    "data = pad_sequences(sequences, maxlen=max_sequence)"
   ]
  },
  {
   "cell_type": "code",
   "execution_count": 86,
   "metadata": {},
   "outputs": [
    {
     "name": "stdout",
     "output_type": "stream",
     "text": [
      "Found 1193514 word vectors.\n"
     ]
    }
   ],
   "source": [
    "embeddings_index = {}\n",
    "f = open('data/glove.twitter.27B.50d.txt', encoding=\"utf8\")\n",
    "\n",
    "for line in f:\n",
    "    values = line.split()\n",
    "    word = values[0]\n",
    "    coefs = np.asarray(values[1:], dtype='float32')\n",
    "    embeddings_index[word] = coefs\n",
    "    \n",
    "f.close()\n",
    "\n",
    "print('Found %s word vectors.' % len(embeddings_index))"
   ]
  },
  {
   "cell_type": "code",
   "execution_count": 87,
   "metadata": {},
   "outputs": [],
   "source": [
    "embedding_matrix = np.zeros((len(word_index) + 1, 50))\n",
    "\n",
    "for word, i in word_index.items():\n",
    "    embedding_vector = embeddings_index.get(word)\n",
    "    if embedding_vector is not None:\n",
    "        # words not found in embedding index will be all-zeros.\n",
    "        embedding_matrix[i] = embedding_vector"
   ]
  },
  {
   "cell_type": "code",
   "execution_count": 88,
   "metadata": {},
   "outputs": [],
   "source": [
    "X_text_train = data[:20000,:]\n",
    "X_text_test = data[20000:,:]"
   ]
  },
  {
   "cell_type": "code",
   "execution_count": 89,
   "metadata": {},
   "outputs": [],
   "source": [
    "number_data = df[['retweets', 'likes', 'replies', 'hashtag_count', 'mention_count', 'url_count']].values\n",
    "\n",
    "X_number_train = number_data[:20000,:]\n",
    "X_number_test = number_data[20000:,:]"
   ]
  },
  {
   "cell_type": "code",
   "execution_count": 90,
   "metadata": {},
   "outputs": [],
   "source": [
    "y_vals = df['BotOrNot'].values\n",
    "\n",
    "y_train = y_vals[:20000].reshape(-1,1)\n",
    "y_test = y_vals[20000:].reshape(-1,1)"
   ]
  },
  {
   "cell_type": "code",
   "execution_count": 91,
   "metadata": {},
   "outputs": [],
   "source": [
    "embedding_layer = Embedding(len(word_index) + 1,\n",
    "                            50,\n",
    "                            weights=[embedding_matrix],\n",
    "                            input_length=max_sequence,\n",
    "                            trainable=False)"
   ]
  },
  {
   "cell_type": "code",
   "execution_count": 92,
   "metadata": {},
   "outputs": [],
   "source": [
    "main_input = Input(shape=(max_sequence,), dtype='int32', name='main_input')\n",
    "embedded_sequences = embedding_layer(main_input)\n",
    "\n",
    "lstm_out = LSTM(32)(embedded_sequences)\n",
    "\n",
    "auxiliary_output = Dense(1, activation='sigmoid', name='aux_output')(lstm_out)\n",
    "\n",
    "auxiliary_input = Input(shape=(6,), name='aux_input')\n",
    "\n",
    "x = concatenate([lstm_out, auxiliary_input])\n",
    "\n",
    "x = Dense(128, activation='relu')(x)\n",
    "x = Dense(64, activation='relu')(x)\n",
    "\n",
    "main_output = Dense(1, activation='sigmoid', name='main_output')(x)"
   ]
  },
  {
   "cell_type": "code",
   "execution_count": 93,
   "metadata": {},
   "outputs": [],
   "source": [
    "model = Model(inputs=[main_input, auxiliary_input], outputs=[main_output, auxiliary_output])"
   ]
  },
  {
   "cell_type": "code",
   "execution_count": 94,
   "metadata": {},
   "outputs": [],
   "source": [
    "model.compile(optimizer='adam',\n",
    "              loss={'main_output': 'binary_crossentropy', 'aux_output': 'binary_crossentropy'},\n",
    "              loss_weights={'main_output': 1., 'aux_output': 0.2},\n",
    "              metrics=['accuracy'])"
   ]
  },
  {
   "cell_type": "code",
   "execution_count": 95,
   "metadata": {},
   "outputs": [
    {
     "name": "stdout",
     "output_type": "stream",
     "text": [
      "__________________________________________________________________________________________________\n",
      "Layer (type)                    Output Shape         Param #     Connected to                     \n",
      "==================================================================================================\n",
      "main_input (InputLayer)         (None, 291)          0                                            \n",
      "__________________________________________________________________________________________________\n",
      "embedding_2 (Embedding)         (None, 291, 50)      1324350     main_input[0][0]                 \n",
      "__________________________________________________________________________________________________\n",
      "lstm_2 (LSTM)                   (None, 32)           10624       embedding_2[0][0]                \n",
      "__________________________________________________________________________________________________\n",
      "aux_input (InputLayer)          (None, 6)            0                                            \n",
      "__________________________________________________________________________________________________\n",
      "concatenate_2 (Concatenate)     (None, 38)           0           lstm_2[0][0]                     \n",
      "                                                                 aux_input[0][0]                  \n",
      "__________________________________________________________________________________________________\n",
      "dense_3 (Dense)                 (None, 128)          4992        concatenate_2[0][0]              \n",
      "__________________________________________________________________________________________________\n",
      "dense_4 (Dense)                 (None, 64)           8256        dense_3[0][0]                    \n",
      "__________________________________________________________________________________________________\n",
      "main_output (Dense)             (None, 1)            65          dense_4[0][0]                    \n",
      "__________________________________________________________________________________________________\n",
      "aux_output (Dense)              (None, 1)            33          lstm_2[0][0]                     \n",
      "==================================================================================================\n",
      "Total params: 1,348,320\n",
      "Trainable params: 23,970\n",
      "Non-trainable params: 1,324,350\n",
      "__________________________________________________________________________________________________\n"
     ]
    }
   ],
   "source": [
    "model.summary()"
   ]
  },
  {
   "cell_type": "code",
   "execution_count": 97,
   "metadata": {},
   "outputs": [
    {
     "name": "stdout",
     "output_type": "stream",
     "text": [
      "Train on 20000 samples, validate on 7609 samples\n",
      "Epoch 1/50\n",
      "20000/20000 [==============================] - 44s 2ms/step - loss: 0.8342 - main_output_loss: 0.7032 - aux_output_loss: 0.6551 - main_output_acc: 0.6074 - aux_output_acc: 0.6069 - val_loss: 0.8185 - val_main_output_loss: 0.6874 - val_aux_output_loss: 0.6555 - val_main_output_acc: 0.6102 - val_aux_output_acc: 0.6090\n",
      "Epoch 2/50\n",
      "20000/20000 [==============================] - 50s 2ms/step - loss: 0.8103 - main_output_loss: 0.6802 - aux_output_loss: 0.6505 - main_output_acc: 0.6181 - aux_output_acc: 0.6154 - val_loss: 0.7933 - val_main_output_loss: 0.6630 - val_aux_output_loss: 0.6514 - val_main_output_acc: 0.6126 - val_aux_output_acc: 0.6147\n",
      "Epoch 3/50\n",
      "20000/20000 [==============================] - 53s 3ms/step - loss: 0.8244 - main_output_loss: 0.6953 - aux_output_loss: 0.6453 - main_output_acc: 0.6265 - aux_output_acc: 0.6203 - val_loss: 1.0552 - val_main_output_loss: 0.9251 - val_aux_output_loss: 0.6500 - val_main_output_acc: 0.5787 - val_aux_output_acc: 0.6102\n",
      "Epoch 4/50\n",
      "20000/20000 [==============================] - 47s 2ms/step - loss: 1.1367 - main_output_loss: 1.0038 - aux_output_loss: 0.6647 - main_output_acc: 0.5814 - aux_output_acc: 0.6023 - val_loss: 0.8633 - val_main_output_loss: 0.7329 - val_aux_output_loss: 0.6520 - val_main_output_acc: 0.6111 - val_aux_output_acc: 0.6063\n",
      "Epoch 5/50\n",
      "20000/20000 [==============================] - 45s 2ms/step - loss: 0.8310 - main_output_loss: 0.7022 - aux_output_loss: 0.6441 - main_output_acc: 0.6290 - aux_output_acc: 0.6248 - val_loss: 0.9119 - val_main_output_loss: 0.7825 - val_aux_output_loss: 0.6467 - val_main_output_acc: 0.6162 - val_aux_output_acc: 0.6169\n",
      "Epoch 6/50\n",
      "20000/20000 [==============================] - 45s 2ms/step - loss: 0.9214 - main_output_loss: 0.7913 - aux_output_loss: 0.6503 - main_output_acc: 0.6240 - aux_output_acc: 0.6212 - val_loss: 0.8133 - val_main_output_loss: 0.6837 - val_aux_output_loss: 0.6477 - val_main_output_acc: 0.6118 - val_aux_output_acc: 0.6090\n",
      "Epoch 7/50\n",
      "20000/20000 [==============================] - 58s 3ms/step - loss: 0.8392 - main_output_loss: 0.7112 - aux_output_loss: 0.6402 - main_output_acc: 0.6280 - aux_output_acc: 0.6263 - val_loss: 0.8524 - val_main_output_loss: 0.7230 - val_aux_output_loss: 0.6469 - val_main_output_acc: 0.6123 - val_aux_output_acc: 0.6095\n",
      "Epoch 8/50\n",
      "20000/20000 [==============================] - 48s 2ms/step - loss: 0.8095 - main_output_loss: 0.6820 - aux_output_loss: 0.6371 - main_output_acc: 0.6365 - aux_output_acc: 0.6307 - val_loss: 0.8096 - val_main_output_loss: 0.6810 - val_aux_output_loss: 0.6428 - val_main_output_acc: 0.6160 - val_aux_output_acc: 0.6144\n",
      "Epoch 9/50\n",
      "20000/20000 [==============================] - 44s 2ms/step - loss: 0.8039 - main_output_loss: 0.6770 - aux_output_loss: 0.6344 - main_output_acc: 0.6386 - aux_output_acc: 0.6325 - val_loss: 0.8498 - val_main_output_loss: 0.7215 - val_aux_output_loss: 0.6412 - val_main_output_acc: 0.5994 - val_aux_output_acc: 0.6202\n",
      "Epoch 10/50\n",
      "20000/20000 [==============================] - 44s 2ms/step - loss: 0.7903 - main_output_loss: 0.6638 - aux_output_loss: 0.6326 - main_output_acc: 0.6399 - aux_output_acc: 0.6345 - val_loss: 0.8563 - val_main_output_loss: 0.7277 - val_aux_output_loss: 0.6427 - val_main_output_acc: 0.6207 - val_aux_output_acc: 0.6127\n",
      "Epoch 11/50\n",
      "20000/20000 [==============================] - 44s 2ms/step - loss: 0.8165 - main_output_loss: 0.6899 - aux_output_loss: 0.6327 - main_output_acc: 0.6434 - aux_output_acc: 0.6372 - val_loss: 0.8011 - val_main_output_loss: 0.6730 - val_aux_output_loss: 0.6404 - val_main_output_acc: 0.6169 - val_aux_output_acc: 0.6153\n",
      "Epoch 12/50\n",
      "20000/20000 [==============================] - 44s 2ms/step - loss: 0.7902 - main_output_loss: 0.6644 - aux_output_loss: 0.6288 - main_output_acc: 0.6454 - aux_output_acc: 0.6390 - val_loss: 0.7822 - val_main_output_loss: 0.6542 - val_aux_output_loss: 0.6398 - val_main_output_acc: 0.6173 - val_aux_output_acc: 0.6140\n",
      "Epoch 13/50\n",
      "20000/20000 [==============================] - 44s 2ms/step - loss: 0.7843 - main_output_loss: 0.6590 - aux_output_loss: 0.6266 - main_output_acc: 0.6458 - aux_output_acc: 0.6401 - val_loss: 0.8122 - val_main_output_loss: 0.6844 - val_aux_output_loss: 0.6390 - val_main_output_acc: 0.6219 - val_aux_output_acc: 0.6197\n",
      "Epoch 14/50\n",
      "20000/20000 [==============================] - 44s 2ms/step - loss: 0.7916 - main_output_loss: 0.6670 - aux_output_loss: 0.6234 - main_output_acc: 0.6491 - aux_output_acc: 0.6433 - val_loss: 0.7860 - val_main_output_loss: 0.6579 - val_aux_output_loss: 0.6402 - val_main_output_acc: 0.6223 - val_aux_output_acc: 0.6187\n",
      "Epoch 15/50\n",
      "20000/20000 [==============================] - 44s 2ms/step - loss: 0.7669 - main_output_loss: 0.6427 - aux_output_loss: 0.6210 - main_output_acc: 0.6549 - aux_output_acc: 0.6459 - val_loss: 0.7759 - val_main_output_loss: 0.6481 - val_aux_output_loss: 0.6390 - val_main_output_acc: 0.6207 - val_aux_output_acc: 0.6177\n",
      "Epoch 16/50\n",
      "20000/20000 [==============================] - 44s 2ms/step - loss: 0.7796 - main_output_loss: 0.6557 - aux_output_loss: 0.6191 - main_output_acc: 0.6571 - aux_output_acc: 0.6458 - val_loss: 0.8122 - val_main_output_loss: 0.6822 - val_aux_output_loss: 0.6502 - val_main_output_acc: 0.6048 - val_aux_output_acc: 0.6051\n",
      "Epoch 17/50\n",
      "20000/20000 [==============================] - 46s 2ms/step - loss: 0.7680 - main_output_loss: 0.6438 - aux_output_loss: 0.6214 - main_output_acc: 0.6551 - aux_output_acc: 0.6437 - val_loss: 0.7841 - val_main_output_loss: 0.6566 - val_aux_output_loss: 0.6375 - val_main_output_acc: 0.6233 - val_aux_output_acc: 0.6187\n",
      "Epoch 18/50\n",
      "20000/20000 [==============================] - 45s 2ms/step - loss: 0.7436 - main_output_loss: 0.6207 - aux_output_loss: 0.6147 - main_output_acc: 0.6623 - aux_output_acc: 0.6500 - val_loss: 0.7910 - val_main_output_loss: 0.6637 - val_aux_output_loss: 0.6363 - val_main_output_acc: 0.6216 - val_aux_output_acc: 0.6210\n",
      "Epoch 19/50\n",
      "20000/20000 [==============================] - 45s 2ms/step - loss: 0.7369 - main_output_loss: 0.6145 - aux_output_loss: 0.6119 - main_output_acc: 0.6670 - aux_output_acc: 0.6524 - val_loss: 0.7769 - val_main_output_loss: 0.6494 - val_aux_output_loss: 0.6375 - val_main_output_acc: 0.6223 - val_aux_output_acc: 0.6226\n",
      "Epoch 20/50\n",
      "20000/20000 [==============================] - 46s 2ms/step - loss: 1.0531 - main_output_loss: 0.9288 - aux_output_loss: 0.6217 - main_output_acc: 0.6402 - aux_output_acc: 0.6415 - val_loss: 0.8650 - val_main_output_loss: 0.7341 - val_aux_output_loss: 0.6544 - val_main_output_acc: 0.6199 - val_aux_output_acc: 0.6193\n",
      "Epoch 21/50\n",
      "20000/20000 [==============================] - 46s 2ms/step - loss: 0.7776 - main_output_loss: 0.6554 - aux_output_loss: 0.6109 - main_output_acc: 0.6594 - aux_output_acc: 0.6545 - val_loss: 0.8223 - val_main_output_loss: 0.6947 - val_aux_output_loss: 0.6379 - val_main_output_acc: 0.6130 - val_aux_output_acc: 0.6226\n",
      "Epoch 22/50\n",
      "20000/20000 [==============================] - 46s 2ms/step - loss: 0.7561 - main_output_loss: 0.6347 - aux_output_loss: 0.6068 - main_output_acc: 0.6664 - aux_output_acc: 0.6574 - val_loss: 0.8125 - val_main_output_loss: 0.6852 - val_aux_output_loss: 0.6362 - val_main_output_acc: 0.6145 - val_aux_output_acc: 0.6204\n",
      "Epoch 23/50\n",
      "20000/20000 [==============================] - 46s 2ms/step - loss: 0.7645 - main_output_loss: 0.6436 - aux_output_loss: 0.6049 - main_output_acc: 0.6681 - aux_output_acc: 0.6596 - val_loss: 0.7895 - val_main_output_loss: 0.6620 - val_aux_output_loss: 0.6375 - val_main_output_acc: 0.6185 - val_aux_output_acc: 0.6232\n",
      "Epoch 24/50\n",
      "20000/20000 [==============================] - 46s 2ms/step - loss: 0.7300 - main_output_loss: 0.6097 - aux_output_loss: 0.6016 - main_output_acc: 0.6762 - aux_output_acc: 0.6611 - val_loss: 0.8167 - val_main_output_loss: 0.6881 - val_aux_output_loss: 0.6430 - val_main_output_acc: 0.6206 - val_aux_output_acc: 0.6229\n",
      "Epoch 25/50\n",
      "20000/20000 [==============================] - 46s 2ms/step - loss: 0.7265 - main_output_loss: 0.6063 - aux_output_loss: 0.6008 - main_output_acc: 0.6763 - aux_output_acc: 0.6605 - val_loss: 0.8197 - val_main_output_loss: 0.6913 - val_aux_output_loss: 0.6422 - val_main_output_acc: 0.6148 - val_aux_output_acc: 0.6155\n"
     ]
    },
    {
     "name": "stdout",
     "output_type": "stream",
     "text": [
      "Epoch 26/50\n",
      "20000/20000 [==============================] - 46s 2ms/step - loss: 0.7178 - main_output_loss: 0.5979 - aux_output_loss: 0.5997 - main_output_acc: 0.6750 - aux_output_acc: 0.6612 - val_loss: 0.8579 - val_main_output_loss: 0.7302 - val_aux_output_loss: 0.6382 - val_main_output_acc: 0.6042 - val_aux_output_acc: 0.6216\n",
      "Epoch 27/50\n",
      "20000/20000 [==============================] - 46s 2ms/step - loss: 0.7230 - main_output_loss: 0.6039 - aux_output_loss: 0.5956 - main_output_acc: 0.6800 - aux_output_acc: 0.6654 - val_loss: 0.8065 - val_main_output_loss: 0.6782 - val_aux_output_loss: 0.6418 - val_main_output_acc: 0.6145 - val_aux_output_acc: 0.6231\n",
      "Epoch 28/50\n",
      "20000/20000 [==============================] - 46s 2ms/step - loss: 0.7646 - main_output_loss: 0.6453 - aux_output_loss: 0.5968 - main_output_acc: 0.6760 - aux_output_acc: 0.6618 - val_loss: 0.8111 - val_main_output_loss: 0.6832 - val_aux_output_loss: 0.6393 - val_main_output_acc: 0.6112 - val_aux_output_acc: 0.6190\n",
      "Epoch 29/50\n",
      "20000/20000 [==============================] - 46s 2ms/step - loss: 0.7374 - main_output_loss: 0.6186 - aux_output_loss: 0.5941 - main_output_acc: 0.6791 - aux_output_acc: 0.6639 - val_loss: 0.8261 - val_main_output_loss: 0.6985 - val_aux_output_loss: 0.6383 - val_main_output_acc: 0.6130 - val_aux_output_acc: 0.6235\n",
      "Epoch 30/50\n",
      "20000/20000 [==============================] - 46s 2ms/step - loss: 0.7267 - main_output_loss: 0.6085 - aux_output_loss: 0.5908 - main_output_acc: 0.6866 - aux_output_acc: 0.6701 - val_loss: 0.7964 - val_main_output_loss: 0.6684 - val_aux_output_loss: 0.6403 - val_main_output_acc: 0.6148 - val_aux_output_acc: 0.6198\n",
      "Epoch 31/50\n",
      "20000/20000 [==============================] - 46s 2ms/step - loss: 0.7184 - main_output_loss: 0.6008 - aux_output_loss: 0.5876 - main_output_acc: 0.6874 - aux_output_acc: 0.6707 - val_loss: 0.9080 - val_main_output_loss: 0.7786 - val_aux_output_loss: 0.6466 - val_main_output_acc: 0.6017 - val_aux_output_acc: 0.6107\n",
      "Epoch 32/50\n",
      "20000/20000 [==============================] - 46s 2ms/step - loss: 0.7740 - main_output_loss: 0.6557 - aux_output_loss: 0.5920 - main_output_acc: 0.6773 - aux_output_acc: 0.6667 - val_loss: 0.8094 - val_main_output_loss: 0.6815 - val_aux_output_loss: 0.6395 - val_main_output_acc: 0.6172 - val_aux_output_acc: 0.6208\n",
      "Epoch 33/50\n",
      "20000/20000 [==============================] - 46s 2ms/step - loss: 0.7089 - main_output_loss: 0.5920 - aux_output_loss: 0.5843 - main_output_acc: 0.6887 - aux_output_acc: 0.6722 - val_loss: 0.8118 - val_main_output_loss: 0.6826 - val_aux_output_loss: 0.6460 - val_main_output_acc: 0.6130 - val_aux_output_acc: 0.6172\n",
      "Epoch 34/50\n",
      "20000/20000 [==============================] - 46s 2ms/step - loss: 0.7084 - main_output_loss: 0.5920 - aux_output_loss: 0.5822 - main_output_acc: 0.6907 - aux_output_acc: 0.6738 - val_loss: 0.8174 - val_main_output_loss: 0.6876 - val_aux_output_loss: 0.6491 - val_main_output_acc: 0.6152 - val_aux_output_acc: 0.6172\n",
      "Epoch 35/50\n",
      "20000/20000 [==============================] - 46s 2ms/step - loss: 0.7046 - main_output_loss: 0.5880 - aux_output_loss: 0.5829 - main_output_acc: 0.6945 - aux_output_acc: 0.6721 - val_loss: 0.8074 - val_main_output_loss: 0.6782 - val_aux_output_loss: 0.6456 - val_main_output_acc: 0.6052 - val_aux_output_acc: 0.6131\n",
      "Epoch 36/50\n",
      "20000/20000 [==============================] - 46s 2ms/step - loss: 0.6746 - main_output_loss: 0.5592 - aux_output_loss: 0.5774 - main_output_acc: 0.7009 - aux_output_acc: 0.6779 - val_loss: 0.8067 - val_main_output_loss: 0.6772 - val_aux_output_loss: 0.6473 - val_main_output_acc: 0.6080 - val_aux_output_acc: 0.6182\n",
      "Epoch 37/50\n",
      "20000/20000 [==============================] - 46s 2ms/step - loss: 0.6732 - main_output_loss: 0.5579 - aux_output_loss: 0.5768 - main_output_acc: 0.7034 - aux_output_acc: 0.6796 - val_loss: 0.8134 - val_main_output_loss: 0.6833 - val_aux_output_loss: 0.6505 - val_main_output_acc: 0.6070 - val_aux_output_acc: 0.6176\n",
      "Epoch 38/50\n",
      "20000/20000 [==============================] - 44s 2ms/step - loss: 0.6721 - main_output_loss: 0.5567 - aux_output_loss: 0.5767 - main_output_acc: 0.7014 - aux_output_acc: 0.6794 - val_loss: 0.8232 - val_main_output_loss: 0.6933 - val_aux_output_loss: 0.6495 - val_main_output_acc: 0.6023 - val_aux_output_acc: 0.6157\n",
      "Epoch 39/50\n",
      "20000/20000 [==============================] - 44s 2ms/step - loss: 0.6685 - main_output_loss: 0.5536 - aux_output_loss: 0.5745 - main_output_acc: 0.7037 - aux_output_acc: 0.6808 - val_loss: 0.8381 - val_main_output_loss: 0.7078 - val_aux_output_loss: 0.6514 - val_main_output_acc: 0.6053 - val_aux_output_acc: 0.6114\n",
      "Epoch 40/50\n",
      "20000/20000 [==============================] - 50s 2ms/step - loss: 0.7098 - main_output_loss: 0.5948 - aux_output_loss: 0.5750 - main_output_acc: 0.6963 - aux_output_acc: 0.6794 - val_loss: 0.8458 - val_main_output_loss: 0.7151 - val_aux_output_loss: 0.6538 - val_main_output_acc: 0.5994 - val_aux_output_acc: 0.6178\n",
      "Epoch 41/50\n",
      "20000/20000 [==============================] - 51s 3ms/step - loss: 0.6856 - main_output_loss: 0.5715 - aux_output_loss: 0.5705 - main_output_acc: 0.7084 - aux_output_acc: 0.6820 - val_loss: 0.8685 - val_main_output_loss: 0.7370 - val_aux_output_loss: 0.6573 - val_main_output_acc: 0.6007 - val_aux_output_acc: 0.6124\n",
      "Epoch 42/50\n",
      "20000/20000 [==============================] - 51s 3ms/step - loss: 0.6580 - main_output_loss: 0.5444 - aux_output_loss: 0.5684 - main_output_acc: 0.7112 - aux_output_acc: 0.6847 - val_loss: 0.8455 - val_main_output_loss: 0.7142 - val_aux_output_loss: 0.6567 - val_main_output_acc: 0.5969 - val_aux_output_acc: 0.6120\n",
      "Epoch 43/50\n",
      "20000/20000 [==============================] - 52s 3ms/step - loss: 0.6591 - main_output_loss: 0.5454 - aux_output_loss: 0.5686 - main_output_acc: 0.7123 - aux_output_acc: 0.6865 - val_loss: 0.8747 - val_main_output_loss: 0.7417 - val_aux_output_loss: 0.6654 - val_main_output_acc: 0.6038 - val_aux_output_acc: 0.6140\n",
      "Epoch 44/50\n",
      "20000/20000 [==============================] - 53s 3ms/step - loss: 0.6478 - main_output_loss: 0.5347 - aux_output_loss: 0.5651 - main_output_acc: 0.7155 - aux_output_acc: 0.6871 - val_loss: 0.8458 - val_main_output_loss: 0.7136 - val_aux_output_loss: 0.6608 - val_main_output_acc: 0.6001 - val_aux_output_acc: 0.6112\n",
      "Epoch 45/50\n",
      "20000/20000 [==============================] - 47s 2ms/step - loss: 0.6436 - main_output_loss: 0.5310 - aux_output_loss: 0.5628 - main_output_acc: 0.7201 - aux_output_acc: 0.6885 - val_loss: 0.8559 - val_main_output_loss: 0.7240 - val_aux_output_loss: 0.6593 - val_main_output_acc: 0.5961 - val_aux_output_acc: 0.6082\n",
      "Epoch 46/50\n",
      "20000/20000 [==============================] - 47s 2ms/step - loss: 0.6600 - main_output_loss: 0.5475 - aux_output_loss: 0.5627 - main_output_acc: 0.7171 - aux_output_acc: 0.6904 - val_loss: 0.8626 - val_main_output_loss: 0.7306 - val_aux_output_loss: 0.6599 - val_main_output_acc: 0.5914 - val_aux_output_acc: 0.6065\n",
      "Epoch 47/50\n",
      "11776/20000 [================>.............] - ETA: 16s - loss: 0.6402 - main_output_loss: 0.5282 - aux_output_loss: 0.5603 - main_output_acc: 0.7267 - aux_output_acc: 0.6913"
     ]
    },
    {
     "ename": "KeyboardInterrupt",
     "evalue": "",
     "output_type": "error",
     "traceback": [
      "\u001b[0;31m---------------------------------------------------------------------------\u001b[0m",
      "\u001b[0;31mKeyboardInterrupt\u001b[0m                         Traceback (most recent call last)",
      "\u001b[0;32m<ipython-input-97-5f17a603eb7c>\u001b[0m in \u001b[0;36m<module>\u001b[0;34m()\u001b[0m\n\u001b[1;32m      3\u001b[0m           \u001b[0mvalidation_data\u001b[0m\u001b[0;34m=\u001b[0m\u001b[0;34m[\u001b[0m\u001b[0;34m{\u001b[0m\u001b[0;34m'main_input'\u001b[0m\u001b[0;34m:\u001b[0m \u001b[0mX_text_test\u001b[0m\u001b[0;34m,\u001b[0m \u001b[0;34m'aux_input'\u001b[0m\u001b[0;34m:\u001b[0m \u001b[0mX_number_test\u001b[0m\u001b[0;34m}\u001b[0m\u001b[0;34m,\u001b[0m \u001b[0;34m{\u001b[0m\u001b[0;34m'main_output'\u001b[0m\u001b[0;34m:\u001b[0m \u001b[0my_test\u001b[0m\u001b[0;34m,\u001b[0m \u001b[0;34m'aux_output'\u001b[0m\u001b[0;34m:\u001b[0m \u001b[0my_test\u001b[0m\u001b[0;34m}\u001b[0m\u001b[0;34m]\u001b[0m\u001b[0;34m,\u001b[0m\u001b[0;34m\u001b[0m\u001b[0;34m\u001b[0m\u001b[0m\n\u001b[1;32m      4\u001b[0m           \u001b[0mepochs\u001b[0m\u001b[0;34m=\u001b[0m\u001b[0;36m50\u001b[0m\u001b[0;34m,\u001b[0m\u001b[0;34m\u001b[0m\u001b[0;34m\u001b[0m\u001b[0m\n\u001b[0;32m----> 5\u001b[0;31m           batch_size=512)\n\u001b[0m",
      "\u001b[0;32m~/anaconda3/envs/tf_gpu/lib/python3.6/site-packages/keras/engine/training.py\u001b[0m in \u001b[0;36mfit\u001b[0;34m(self, x, y, batch_size, epochs, verbose, callbacks, validation_split, validation_data, shuffle, class_weight, sample_weight, initial_epoch, steps_per_epoch, validation_steps, **kwargs)\u001b[0m\n\u001b[1;32m   1037\u001b[0m                                         \u001b[0minitial_epoch\u001b[0m\u001b[0;34m=\u001b[0m\u001b[0minitial_epoch\u001b[0m\u001b[0;34m,\u001b[0m\u001b[0;34m\u001b[0m\u001b[0;34m\u001b[0m\u001b[0m\n\u001b[1;32m   1038\u001b[0m                                         \u001b[0msteps_per_epoch\u001b[0m\u001b[0;34m=\u001b[0m\u001b[0msteps_per_epoch\u001b[0m\u001b[0;34m,\u001b[0m\u001b[0;34m\u001b[0m\u001b[0;34m\u001b[0m\u001b[0m\n\u001b[0;32m-> 1039\u001b[0;31m                                         validation_steps=validation_steps)\n\u001b[0m\u001b[1;32m   1040\u001b[0m \u001b[0;34m\u001b[0m\u001b[0m\n\u001b[1;32m   1041\u001b[0m     def evaluate(self, x=None, y=None,\n",
      "\u001b[0;32m~/anaconda3/envs/tf_gpu/lib/python3.6/site-packages/keras/engine/training_arrays.py\u001b[0m in \u001b[0;36mfit_loop\u001b[0;34m(model, f, ins, out_labels, batch_size, epochs, verbose, callbacks, val_f, val_ins, shuffle, callback_metrics, initial_epoch, steps_per_epoch, validation_steps)\u001b[0m\n\u001b[1;32m    197\u001b[0m                     \u001b[0mins_batch\u001b[0m\u001b[0;34m[\u001b[0m\u001b[0mi\u001b[0m\u001b[0;34m]\u001b[0m \u001b[0;34m=\u001b[0m \u001b[0mins_batch\u001b[0m\u001b[0;34m[\u001b[0m\u001b[0mi\u001b[0m\u001b[0;34m]\u001b[0m\u001b[0;34m.\u001b[0m\u001b[0mtoarray\u001b[0m\u001b[0;34m(\u001b[0m\u001b[0;34m)\u001b[0m\u001b[0;34m\u001b[0m\u001b[0;34m\u001b[0m\u001b[0m\n\u001b[1;32m    198\u001b[0m \u001b[0;34m\u001b[0m\u001b[0m\n\u001b[0;32m--> 199\u001b[0;31m                 \u001b[0mouts\u001b[0m \u001b[0;34m=\u001b[0m \u001b[0mf\u001b[0m\u001b[0;34m(\u001b[0m\u001b[0mins_batch\u001b[0m\u001b[0;34m)\u001b[0m\u001b[0;34m\u001b[0m\u001b[0;34m\u001b[0m\u001b[0m\n\u001b[0m\u001b[1;32m    200\u001b[0m                 \u001b[0mouts\u001b[0m \u001b[0;34m=\u001b[0m \u001b[0mto_list\u001b[0m\u001b[0;34m(\u001b[0m\u001b[0mouts\u001b[0m\u001b[0;34m)\u001b[0m\u001b[0;34m\u001b[0m\u001b[0;34m\u001b[0m\u001b[0m\n\u001b[1;32m    201\u001b[0m                 \u001b[0;32mfor\u001b[0m \u001b[0ml\u001b[0m\u001b[0;34m,\u001b[0m \u001b[0mo\u001b[0m \u001b[0;32min\u001b[0m \u001b[0mzip\u001b[0m\u001b[0;34m(\u001b[0m\u001b[0mout_labels\u001b[0m\u001b[0;34m,\u001b[0m \u001b[0mouts\u001b[0m\u001b[0;34m)\u001b[0m\u001b[0;34m:\u001b[0m\u001b[0;34m\u001b[0m\u001b[0;34m\u001b[0m\u001b[0m\n",
      "\u001b[0;32m~/anaconda3/envs/tf_gpu/lib/python3.6/site-packages/keras/backend/tensorflow_backend.py\u001b[0m in \u001b[0;36m__call__\u001b[0;34m(self, inputs)\u001b[0m\n\u001b[1;32m   2713\u001b[0m                 \u001b[0;32mreturn\u001b[0m \u001b[0mself\u001b[0m\u001b[0;34m.\u001b[0m\u001b[0m_legacy_call\u001b[0m\u001b[0;34m(\u001b[0m\u001b[0minputs\u001b[0m\u001b[0;34m)\u001b[0m\u001b[0;34m\u001b[0m\u001b[0;34m\u001b[0m\u001b[0m\n\u001b[1;32m   2714\u001b[0m \u001b[0;34m\u001b[0m\u001b[0m\n\u001b[0;32m-> 2715\u001b[0;31m             \u001b[0;32mreturn\u001b[0m \u001b[0mself\u001b[0m\u001b[0;34m.\u001b[0m\u001b[0m_call\u001b[0m\u001b[0;34m(\u001b[0m\u001b[0minputs\u001b[0m\u001b[0;34m)\u001b[0m\u001b[0;34m\u001b[0m\u001b[0;34m\u001b[0m\u001b[0m\n\u001b[0m\u001b[1;32m   2716\u001b[0m         \u001b[0;32melse\u001b[0m\u001b[0;34m:\u001b[0m\u001b[0;34m\u001b[0m\u001b[0;34m\u001b[0m\u001b[0m\n\u001b[1;32m   2717\u001b[0m             \u001b[0;32mif\u001b[0m \u001b[0mpy_any\u001b[0m\u001b[0;34m(\u001b[0m\u001b[0mis_tensor\u001b[0m\u001b[0;34m(\u001b[0m\u001b[0mx\u001b[0m\u001b[0;34m)\u001b[0m \u001b[0;32mfor\u001b[0m \u001b[0mx\u001b[0m \u001b[0;32min\u001b[0m \u001b[0minputs\u001b[0m\u001b[0;34m)\u001b[0m\u001b[0;34m:\u001b[0m\u001b[0;34m\u001b[0m\u001b[0;34m\u001b[0m\u001b[0m\n",
      "\u001b[0;32m~/anaconda3/envs/tf_gpu/lib/python3.6/site-packages/keras/backend/tensorflow_backend.py\u001b[0m in \u001b[0;36m_call\u001b[0;34m(self, inputs)\u001b[0m\n\u001b[1;32m   2673\u001b[0m             \u001b[0mfetched\u001b[0m \u001b[0;34m=\u001b[0m \u001b[0mself\u001b[0m\u001b[0;34m.\u001b[0m\u001b[0m_callable_fn\u001b[0m\u001b[0;34m(\u001b[0m\u001b[0;34m*\u001b[0m\u001b[0marray_vals\u001b[0m\u001b[0;34m,\u001b[0m \u001b[0mrun_metadata\u001b[0m\u001b[0;34m=\u001b[0m\u001b[0mself\u001b[0m\u001b[0;34m.\u001b[0m\u001b[0mrun_metadata\u001b[0m\u001b[0;34m)\u001b[0m\u001b[0;34m\u001b[0m\u001b[0;34m\u001b[0m\u001b[0m\n\u001b[1;32m   2674\u001b[0m         \u001b[0;32melse\u001b[0m\u001b[0;34m:\u001b[0m\u001b[0;34m\u001b[0m\u001b[0;34m\u001b[0m\u001b[0m\n\u001b[0;32m-> 2675\u001b[0;31m             \u001b[0mfetched\u001b[0m \u001b[0;34m=\u001b[0m \u001b[0mself\u001b[0m\u001b[0;34m.\u001b[0m\u001b[0m_callable_fn\u001b[0m\u001b[0;34m(\u001b[0m\u001b[0;34m*\u001b[0m\u001b[0marray_vals\u001b[0m\u001b[0;34m)\u001b[0m\u001b[0;34m\u001b[0m\u001b[0;34m\u001b[0m\u001b[0m\n\u001b[0m\u001b[1;32m   2676\u001b[0m         \u001b[0;32mreturn\u001b[0m \u001b[0mfetched\u001b[0m\u001b[0;34m[\u001b[0m\u001b[0;34m:\u001b[0m\u001b[0mlen\u001b[0m\u001b[0;34m(\u001b[0m\u001b[0mself\u001b[0m\u001b[0;34m.\u001b[0m\u001b[0moutputs\u001b[0m\u001b[0;34m)\u001b[0m\u001b[0;34m]\u001b[0m\u001b[0;34m\u001b[0m\u001b[0;34m\u001b[0m\u001b[0m\n\u001b[1;32m   2677\u001b[0m \u001b[0;34m\u001b[0m\u001b[0m\n",
      "\u001b[0;32m~/anaconda3/envs/tf_gpu/lib/python3.6/site-packages/tensorflow/python/client/session.py\u001b[0m in \u001b[0;36m__call__\u001b[0;34m(self, *args, **kwargs)\u001b[0m\n\u001b[1;32m   1437\u001b[0m           ret = tf_session.TF_SessionRunCallable(\n\u001b[1;32m   1438\u001b[0m               \u001b[0mself\u001b[0m\u001b[0;34m.\u001b[0m\u001b[0m_session\u001b[0m\u001b[0;34m.\u001b[0m\u001b[0m_session\u001b[0m\u001b[0;34m,\u001b[0m \u001b[0mself\u001b[0m\u001b[0;34m.\u001b[0m\u001b[0m_handle\u001b[0m\u001b[0;34m,\u001b[0m \u001b[0margs\u001b[0m\u001b[0;34m,\u001b[0m \u001b[0mstatus\u001b[0m\u001b[0;34m,\u001b[0m\u001b[0;34m\u001b[0m\u001b[0;34m\u001b[0m\u001b[0m\n\u001b[0;32m-> 1439\u001b[0;31m               run_metadata_ptr)\n\u001b[0m\u001b[1;32m   1440\u001b[0m         \u001b[0;32mif\u001b[0m \u001b[0mrun_metadata\u001b[0m\u001b[0;34m:\u001b[0m\u001b[0;34m\u001b[0m\u001b[0;34m\u001b[0m\u001b[0m\n\u001b[1;32m   1441\u001b[0m           \u001b[0mproto_data\u001b[0m \u001b[0;34m=\u001b[0m \u001b[0mtf_session\u001b[0m\u001b[0;34m.\u001b[0m\u001b[0mTF_GetBuffer\u001b[0m\u001b[0;34m(\u001b[0m\u001b[0mrun_metadata_ptr\u001b[0m\u001b[0;34m)\u001b[0m\u001b[0;34m\u001b[0m\u001b[0;34m\u001b[0m\u001b[0m\n",
      "\u001b[0;31mKeyboardInterrupt\u001b[0m: "
     ]
    }
   ],
   "source": [
    "model.fit({'main_input': X_text_train, 'aux_input': X_number_train},\n",
    "          {'main_output': y_train, 'aux_output': y_train},\n",
    "          validation_data=[{'main_input': X_text_test, 'aux_input': X_number_test}, {'main_output': y_test, 'aux_output': y_test}],\n",
    "          epochs=50, \n",
    "          batch_size=512)"
   ]
  },
  {
   "cell_type": "code",
   "execution_count": null,
   "metadata": {},
   "outputs": [],
   "source": []
  }
 ],
 "metadata": {
  "kernelspec": {
   "display_name": "Python (tf_gpu)",
   "language": "python",
   "name": "tf_gpu"
  },
  "language_info": {
   "codemirror_mode": {
    "name": "ipython",
    "version": 3
   },
   "file_extension": ".py",
   "mimetype": "text/x-python",
   "name": "python",
   "nbconvert_exporter": "python",
   "pygments_lexer": "ipython3",
   "version": "3.6.7"
  }
 },
 "nbformat": 4,
 "nbformat_minor": 2
}
